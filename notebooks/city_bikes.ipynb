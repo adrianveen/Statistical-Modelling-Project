{
 "cells": [
  {
   "cell_type": "markdown",
   "metadata": {},
   "source": [
    "# CityBikes"
   ]
  },
  {
   "cell_type": "markdown",
   "metadata": {},
   "source": [
    "Send a request to CityBikes for the city of your choice. "
   ]
  },
  {
   "cell_type": "code",
   "execution_count": 6,
   "metadata": {},
   "outputs": [],
   "source": [
    "import pandas as pd\n",
    "import os # use this to access your environment variables\n",
    "import requests # this will be used to call the APIs\n",
    "import seaborn as sns\n",
    "import matplotlib.pyplot as plt\n",
    "import numpy as np"
   ]
  },
  {
   "cell_type": "code",
   "execution_count": 7,
   "metadata": {},
   "outputs": [],
   "source": [
    "# fields_list = ['1', '2', '3']\n",
    "\n",
    "# url = \"http://api.citybik.es/v2/networks\"\n",
    "    \n",
    "# if len(fields_list) > 0:\n",
    "#     url = url + \"?fields=\"\n",
    "#     for field in fields_list:\n",
    "#         url = url + field + \",\"\n",
    "\n",
    "# url = url[:-1]\n"
   ]
  },
  {
   "cell_type": "code",
   "execution_count": 8,
   "metadata": {},
   "outputs": [],
   "source": [
    "def get_citybikes(networkid=None, fields_list=[]):\n",
    "    url = \"https://api.citybik.es/v2/networks\"\n",
    "    \n",
    "    if networkid is not None:\n",
    "        url = url + \"/\" + networkid\n",
    "    else:\n",
    "        pass\n",
    "\n",
    "    if len(fields_list) > 0:\n",
    "        url = url + \"?fields=\"\n",
    "        for field in fields_list:\n",
    "            url = url + field + \",\"\n",
    "        url = url[:-1]\n",
    "    else:\n",
    "        pass\n",
    "\n",
    "    response = requests.get(url)\n",
    "\n",
    "    return response"
   ]
  },
  {
   "cell_type": "code",
   "execution_count": 9,
   "metadata": {},
   "outputs": [],
   "source": [
    "#returns a response of the networks, which we can then use to find the Toronto networkid\n",
    "get_networks = get_citybikes()\n",
    "networks_json = get_networks.json()"
   ]
  },
  {
   "cell_type": "code",
   "execution_count": 10,
   "metadata": {},
   "outputs": [],
   "source": [
    "#create a df of the network information\n",
    "networks_df = pd.DataFrame(networks_json['networks'])"
   ]
  },
  {
   "cell_type": "code",
   "execution_count": 11,
   "metadata": {},
   "outputs": [],
   "source": [
    "#creates a DF of all the location data from the 'networks' endpoint\n",
    "location_df = pd.DataFrame(list(networks_df['location']))"
   ]
  },
  {
   "cell_type": "code",
   "execution_count": 14,
   "metadata": {},
   "outputs": [],
   "source": [
    "#finds the location of the specified city - in this case 'toronto'\n",
    "tor_search = location_df['city'].str.contains('toronto', case=False)"
   ]
  },
  {
   "cell_type": "code",
   "execution_count": 15,
   "metadata": {},
   "outputs": [],
   "source": [
    "#retrieve the id for toronto as single value variable\n",
    "tor_id = networks_df.loc[tor_search, ['id']].iloc[0].values[0]"
   ]
  },
  {
   "cell_type": "code",
   "execution_count": 16,
   "metadata": {},
   "outputs": [],
   "source": [
    "#call api with tor_id variable to get toronto information and store as json\n",
    "tor_json = get_citybikes(tor_id).json()"
   ]
  },
  {
   "cell_type": "markdown",
   "metadata": {},
   "source": [
    "Parse through the response to get the details you want for the bike stations in that city (latitude, longitude, number of bikes). "
   ]
  },
  {
   "cell_type": "code",
   "execution_count": 17,
   "metadata": {},
   "outputs": [],
   "source": [
    "tor_stations = pd.DataFrame(tor_json['network']['stations']).drop(['extra'], axis=1)"
   ]
  },
  {
   "cell_type": "code",
   "execution_count": 18,
   "metadata": {},
   "outputs": [
    {
     "name": "stdout",
     "output_type": "stream",
     "text": [
      "(751, 7)\n",
      "751\n"
     ]
    }
   ],
   "source": [
    "#format time column; convert to local timezone\n",
    "tor_stations['timestamp'] = pd.to_datetime(tor_stations['timestamp'], utc=True, format='ISO8601').dt.tz_convert('US/Eastern')\n",
    "\n",
    "#confirm id's are unique (rows = nunique for id)\n",
    "print(tor_stations.shape)\n",
    "print(tor_stations['id'].nunique())"
   ]
  },
  {
   "cell_type": "markdown",
   "metadata": {},
   "source": []
  },
  {
   "cell_type": "markdown",
   "metadata": {},
   "source": [
    "Put your parsed results into a DataFrame."
   ]
  },
  {
   "cell_type": "code",
   "execution_count": 19,
   "metadata": {},
   "outputs": [
    {
     "data": {
      "text/html": [
       "<div>\n",
       "<style scoped>\n",
       "    .dataframe tbody tr th:only-of-type {\n",
       "        vertical-align: middle;\n",
       "    }\n",
       "\n",
       "    .dataframe tbody tr th {\n",
       "        vertical-align: top;\n",
       "    }\n",
       "\n",
       "    .dataframe thead th {\n",
       "        text-align: right;\n",
       "    }\n",
       "</style>\n",
       "<table border=\"1\" class=\"dataframe\">\n",
       "  <thead>\n",
       "    <tr style=\"text-align: right;\">\n",
       "      <th></th>\n",
       "      <th>empty_slots</th>\n",
       "      <th>free_bikes</th>\n",
       "      <th>id</th>\n",
       "      <th>latitude</th>\n",
       "      <th>longitude</th>\n",
       "      <th>name</th>\n",
       "      <th>timestamp</th>\n",
       "    </tr>\n",
       "  </thead>\n",
       "  <tbody>\n",
       "    <tr>\n",
       "      <th>0</th>\n",
       "      <td>2</td>\n",
       "      <td>16</td>\n",
       "      <td>fb337bbed72e2be090071e199899b2be</td>\n",
       "      <td>43.665269</td>\n",
       "      <td>-79.319796</td>\n",
       "      <td>Queen St E / Woodward Ave</td>\n",
       "      <td>2023-11-17 15:55:44.074000-05:00</td>\n",
       "    </tr>\n",
       "    <tr>\n",
       "      <th>1</th>\n",
       "      <td>13</td>\n",
       "      <td>1</td>\n",
       "      <td>4ff88d5880e71aa40d34cfe5d09b0ca7</td>\n",
       "      <td>43.671420</td>\n",
       "      <td>-79.445947</td>\n",
       "      <td>Primrose Ave / Davenport Rd</td>\n",
       "      <td>2023-11-17 15:55:44.075000-05:00</td>\n",
       "    </tr>\n",
       "    <tr>\n",
       "      <th>2</th>\n",
       "      <td>14</td>\n",
       "      <td>8</td>\n",
       "      <td>a09c67c0b419654d907c9134b108e328</td>\n",
       "      <td>43.666224</td>\n",
       "      <td>-79.317693</td>\n",
       "      <td>Queen St E / Rhodes Ave</td>\n",
       "      <td>2023-11-17 15:55:44.076000-05:00</td>\n",
       "    </tr>\n",
       "    <tr>\n",
       "      <th>3</th>\n",
       "      <td>4</td>\n",
       "      <td>31</td>\n",
       "      <td>d6a9daee68070a8b106cfb598d81308c</td>\n",
       "      <td>43.653236</td>\n",
       "      <td>-79.376716</td>\n",
       "      <td>Bond St / Queen St E</td>\n",
       "      <td>2023-11-17 15:55:44.101000-05:00</td>\n",
       "    </tr>\n",
       "    <tr>\n",
       "      <th>4</th>\n",
       "      <td>9</td>\n",
       "      <td>17</td>\n",
       "      <td>8f8af40d9388c8a3962559e8681d3db7</td>\n",
       "      <td>43.663722</td>\n",
       "      <td>-79.380288</td>\n",
       "      <td>Church St / Alexander St</td>\n",
       "      <td>2023-11-17 15:55:44.104000-05:00</td>\n",
       "    </tr>\n",
       "    <tr>\n",
       "      <th>...</th>\n",
       "      <td>...</td>\n",
       "      <td>...</td>\n",
       "      <td>...</td>\n",
       "      <td>...</td>\n",
       "      <td>...</td>\n",
       "      <td>...</td>\n",
       "      <td>...</td>\n",
       "    </tr>\n",
       "    <tr>\n",
       "      <th>746</th>\n",
       "      <td>15</td>\n",
       "      <td>0</td>\n",
       "      <td>3654ed1bd8516fddd2364502084cd01b</td>\n",
       "      <td>43.748454</td>\n",
       "      <td>-79.550404</td>\n",
       "      <td>Lindylou Rd / Lanyard Rd</td>\n",
       "      <td>2023-11-17 15:55:44.184000-05:00</td>\n",
       "    </tr>\n",
       "    <tr>\n",
       "      <th>747</th>\n",
       "      <td>15</td>\n",
       "      <td>0</td>\n",
       "      <td>3f09d8a338e4501752365339f106a1ff</td>\n",
       "      <td>43.763770</td>\n",
       "      <td>-79.488092</td>\n",
       "      <td>Tangiers Rd / Finch Ave W</td>\n",
       "      <td>2023-11-17 15:55:44.186000-05:00</td>\n",
       "    </tr>\n",
       "    <tr>\n",
       "      <th>748</th>\n",
       "      <td>16</td>\n",
       "      <td>0</td>\n",
       "      <td>8402cda81d70fbc893e5337366df8d58</td>\n",
       "      <td>43.661803</td>\n",
       "      <td>-79.389682</td>\n",
       "      <td>Queen's Park Cres E / Grosvenor St - SMART</td>\n",
       "      <td>2023-11-17 15:55:45.560000-05:00</td>\n",
       "    </tr>\n",
       "    <tr>\n",
       "      <th>749</th>\n",
       "      <td>11</td>\n",
       "      <td>0</td>\n",
       "      <td>eb00d171668cedf07334d8504a1dbd79</td>\n",
       "      <td>43.727498</td>\n",
       "      <td>-79.327142</td>\n",
       "      <td>Wynford Heights Cres / Concorde Pl</td>\n",
       "      <td>2023-11-17 15:55:44.185000-05:00</td>\n",
       "    </tr>\n",
       "    <tr>\n",
       "      <th>750</th>\n",
       "      <td>15</td>\n",
       "      <td>0</td>\n",
       "      <td>6b344a9f4d6c85f7a5f4dbd25dbb2cc3</td>\n",
       "      <td>43.722112</td>\n",
       "      <td>-79.308648</td>\n",
       "      <td>Bartley Park</td>\n",
       "      <td>2023-11-17 15:55:44.205000-05:00</td>\n",
       "    </tr>\n",
       "  </tbody>\n",
       "</table>\n",
       "<p>751 rows × 7 columns</p>\n",
       "</div>"
      ],
      "text/plain": [
       "     empty_slots  free_bikes                                id   latitude  \\\n",
       "0              2          16  fb337bbed72e2be090071e199899b2be  43.665269   \n",
       "1             13           1  4ff88d5880e71aa40d34cfe5d09b0ca7  43.671420   \n",
       "2             14           8  a09c67c0b419654d907c9134b108e328  43.666224   \n",
       "3              4          31  d6a9daee68070a8b106cfb598d81308c  43.653236   \n",
       "4              9          17  8f8af40d9388c8a3962559e8681d3db7  43.663722   \n",
       "..           ...         ...                               ...        ...   \n",
       "746           15           0  3654ed1bd8516fddd2364502084cd01b  43.748454   \n",
       "747           15           0  3f09d8a338e4501752365339f106a1ff  43.763770   \n",
       "748           16           0  8402cda81d70fbc893e5337366df8d58  43.661803   \n",
       "749           11           0  eb00d171668cedf07334d8504a1dbd79  43.727498   \n",
       "750           15           0  6b344a9f4d6c85f7a5f4dbd25dbb2cc3  43.722112   \n",
       "\n",
       "     longitude                                        name  \\\n",
       "0   -79.319796                   Queen St E / Woodward Ave   \n",
       "1   -79.445947                 Primrose Ave / Davenport Rd   \n",
       "2   -79.317693                     Queen St E / Rhodes Ave   \n",
       "3   -79.376716                        Bond St / Queen St E   \n",
       "4   -79.380288                    Church St / Alexander St   \n",
       "..         ...                                         ...   \n",
       "746 -79.550404                    Lindylou Rd / Lanyard Rd   \n",
       "747 -79.488092                   Tangiers Rd / Finch Ave W   \n",
       "748 -79.389682  Queen's Park Cres E / Grosvenor St - SMART   \n",
       "749 -79.327142          Wynford Heights Cres / Concorde Pl   \n",
       "750 -79.308648                               Bartley Park    \n",
       "\n",
       "                           timestamp  \n",
       "0   2023-11-17 15:55:44.074000-05:00  \n",
       "1   2023-11-17 15:55:44.075000-05:00  \n",
       "2   2023-11-17 15:55:44.076000-05:00  \n",
       "3   2023-11-17 15:55:44.101000-05:00  \n",
       "4   2023-11-17 15:55:44.104000-05:00  \n",
       "..                               ...  \n",
       "746 2023-11-17 15:55:44.184000-05:00  \n",
       "747 2023-11-17 15:55:44.186000-05:00  \n",
       "748 2023-11-17 15:55:45.560000-05:00  \n",
       "749 2023-11-17 15:55:44.185000-05:00  \n",
       "750 2023-11-17 15:55:44.205000-05:00  \n",
       "\n",
       "[751 rows x 7 columns]"
      ]
     },
     "execution_count": 19,
     "metadata": {},
     "output_type": "execute_result"
    }
   ],
   "source": [
    "#show the df\n",
    "tor_stations"
   ]
  },
  {
   "cell_type": "code",
   "execution_count": 104,
   "metadata": {},
   "outputs": [],
   "source": [
    "#save tor stations as csv\n",
    "tor_stations = tor_stations.to_csv('tor_stations.csv', index=False)"
   ]
  }
 ],
 "metadata": {
  "kernelspec": {
   "display_name": "Python 3",
   "language": "python",
   "name": "python3"
  },
  "language_info": {
   "codemirror_mode": {
    "name": "ipython",
    "version": 3
   },
   "file_extension": ".py",
   "mimetype": "text/x-python",
   "name": "python",
   "nbconvert_exporter": "python",
   "pygments_lexer": "ipython3",
   "version": "3.11.5"
  }
 },
 "nbformat": 4,
 "nbformat_minor": 4
}
