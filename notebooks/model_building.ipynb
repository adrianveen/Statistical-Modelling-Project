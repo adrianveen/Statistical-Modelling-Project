{
 "cells": [
  {
   "cell_type": "code",
   "execution_count": 2,
   "metadata": {},
   "outputs": [],
   "source": [
    "import pandas as pd\n",
    "import statsmodels.api as sm\n",
    "import numpy as np\n",
    "import pandas as pd\n",
    "\n",
    "from sklearn import linear_model, datasets"
   ]
  },
  {
   "cell_type": "markdown",
   "metadata": {},
   "source": [
    "Build a regression model."
   ]
  },
  {
   "cell_type": "code",
   "execution_count": 12,
   "metadata": {},
   "outputs": [
    {
     "data": {
      "text/html": [
       "<div>\n",
       "<style scoped>\n",
       "    .dataframe tbody tr th:only-of-type {\n",
       "        vertical-align: middle;\n",
       "    }\n",
       "\n",
       "    .dataframe tbody tr th {\n",
       "        vertical-align: top;\n",
       "    }\n",
       "\n",
       "    .dataframe thead th {\n",
       "        text-align: right;\n",
       "    }\n",
       "</style>\n",
       "<table border=\"1\" class=\"dataframe\">\n",
       "  <thead>\n",
       "    <tr style=\"text-align: right;\">\n",
       "      <th></th>\n",
       "      <th>empty_slots</th>\n",
       "      <th>free_bikes</th>\n",
       "      <th>id</th>\n",
       "      <th>latitude</th>\n",
       "      <th>longitude</th>\n",
       "      <th>name</th>\n",
       "      <th>timestamp</th>\n",
       "    </tr>\n",
       "  </thead>\n",
       "  <tbody>\n",
       "    <tr>\n",
       "      <th>0</th>\n",
       "      <td>3</td>\n",
       "      <td>23</td>\n",
       "      <td>dcbcf9c681fbd3e77dfbea6df0e070bc</td>\n",
       "      <td>43.645857</td>\n",
       "      <td>-79.385365</td>\n",
       "      <td>Simcoe St / Wellington St W South</td>\n",
       "      <td>2023-11-17 15:55:45.502000-05:00</td>\n",
       "    </tr>\n",
       "    <tr>\n",
       "      <th>1</th>\n",
       "      <td>0</td>\n",
       "      <td>18</td>\n",
       "      <td>d1de2ddc0ea8a90d00ff717ad60a2f23</td>\n",
       "      <td>43.638497</td>\n",
       "      <td>-79.391920</td>\n",
       "      <td>Lower Spadina Ave / Lake Shore Blvd W</td>\n",
       "      <td>2023-11-17 15:55:44.622000-05:00</td>\n",
       "    </tr>\n",
       "    <tr>\n",
       "      <th>2</th>\n",
       "      <td>3</td>\n",
       "      <td>12</td>\n",
       "      <td>9fd381407b51a700753caec17607a127</td>\n",
       "      <td>43.647508</td>\n",
       "      <td>-79.386044</td>\n",
       "      <td>Simcoe St / King St W</td>\n",
       "      <td>2023-11-17 15:55:45.336000-05:00</td>\n",
       "    </tr>\n",
       "    <tr>\n",
       "      <th>3</th>\n",
       "      <td>3</td>\n",
       "      <td>16</td>\n",
       "      <td>f42363acf4af847ca6fcdbe9b48c8290</td>\n",
       "      <td>43.637981</td>\n",
       "      <td>-79.424146</td>\n",
       "      <td>Liberty St / Fraser Ave Green P</td>\n",
       "      <td>2023-11-17 15:55:45.472000-05:00</td>\n",
       "    </tr>\n",
       "    <tr>\n",
       "      <th>4</th>\n",
       "      <td>14</td>\n",
       "      <td>2</td>\n",
       "      <td>c4a01864ecb66e9b1ee3023d3205a281</td>\n",
       "      <td>43.680022</td>\n",
       "      <td>-79.340568</td>\n",
       "      <td>Langford Ave / Danforth Ave - SMART</td>\n",
       "      <td>2023-11-17 15:55:45.220000-05:00</td>\n",
       "    </tr>\n",
       "  </tbody>\n",
       "</table>\n",
       "</div>"
      ],
      "text/plain": [
       "   empty_slots  free_bikes                                id   latitude  \\\n",
       "0            3          23  dcbcf9c681fbd3e77dfbea6df0e070bc  43.645857   \n",
       "1            0          18  d1de2ddc0ea8a90d00ff717ad60a2f23  43.638497   \n",
       "2            3          12  9fd381407b51a700753caec17607a127  43.647508   \n",
       "3            3          16  f42363acf4af847ca6fcdbe9b48c8290  43.637981   \n",
       "4           14           2  c4a01864ecb66e9b1ee3023d3205a281  43.680022   \n",
       "\n",
       "   longitude                                   name  \\\n",
       "0 -79.385365      Simcoe St / Wellington St W South   \n",
       "1 -79.391920  Lower Spadina Ave / Lake Shore Blvd W   \n",
       "2 -79.386044                  Simcoe St / King St W   \n",
       "3 -79.424146        Liberty St / Fraser Ave Green P   \n",
       "4 -79.340568    Langford Ave / Danforth Ave - SMART   \n",
       "\n",
       "                          timestamp  \n",
       "0  2023-11-17 15:55:45.502000-05:00  \n",
       "1  2023-11-17 15:55:44.622000-05:00  \n",
       "2  2023-11-17 15:55:45.336000-05:00  \n",
       "3  2023-11-17 15:55:45.472000-05:00  \n",
       "4  2023-11-17 15:55:45.220000-05:00  "
      ]
     },
     "execution_count": 12,
     "metadata": {},
     "output_type": "execute_result"
    }
   ],
   "source": [
    "data = pd.read_csv('data_clean.csv')\n",
    "data.rename(columns={'closest bike station id':'nearby_bike_station_id'}, inplace=True)\n",
    "stations = pd.read_csv('tor_stations_sample.csv')\n",
    "stations.head()"
   ]
  },
  {
   "cell_type": "code",
   "execution_count": 20,
   "metadata": {},
   "outputs": [
    {
     "data": {
      "text/html": [
       "<div>\n",
       "<style scoped>\n",
       "    .dataframe tbody tr th:only-of-type {\n",
       "        vertical-align: middle;\n",
       "    }\n",
       "\n",
       "    .dataframe tbody tr th {\n",
       "        vertical-align: top;\n",
       "    }\n",
       "\n",
       "    .dataframe thead th {\n",
       "        text-align: right;\n",
       "    }\n",
       "</style>\n",
       "<table border=\"1\" class=\"dataframe\">\n",
       "  <thead>\n",
       "    <tr style=\"text-align: right;\">\n",
       "      <th></th>\n",
       "      <th>nearby_bike_station_id</th>\n",
       "      <th>poi_id</th>\n",
       "      <th>name</th>\n",
       "      <th>address</th>\n",
       "      <th>distance</th>\n",
       "      <th>longitude</th>\n",
       "      <th>latitude</th>\n",
       "      <th>categories</th>\n",
       "      <th>rating</th>\n",
       "      <th>price</th>\n",
       "      <th>...</th>\n",
       "      <th>rating_3</th>\n",
       "      <th>rating_4</th>\n",
       "      <th>rating_5</th>\n",
       "      <th>rating_6</th>\n",
       "      <th>rating_7</th>\n",
       "      <th>rating_8</th>\n",
       "      <th>rating_9</th>\n",
       "      <th>rating_10</th>\n",
       "      <th>id</th>\n",
       "      <th>free_bikes</th>\n",
       "    </tr>\n",
       "  </thead>\n",
       "  <tbody>\n",
       "    <tr>\n",
       "      <th>0</th>\n",
       "      <td>dcbcf9c681fbd3e77dfbea6df0e070bc</td>\n",
       "      <td>r_BrIgzYcwo1NAuG9dLbpg</td>\n",
       "      <td>Pai Northern Thai Kitchen</td>\n",
       "      <td>18 Duncan Street</td>\n",
       "      <td>348.204192</td>\n",
       "      <td>-79.388720</td>\n",
       "      <td>43.647840</td>\n",
       "      <td>Thai</td>\n",
       "      <td>9.0</td>\n",
       "      <td>2</td>\n",
       "      <td>...</td>\n",
       "      <td>0</td>\n",
       "      <td>0</td>\n",
       "      <td>0</td>\n",
       "      <td>0</td>\n",
       "      <td>0</td>\n",
       "      <td>0</td>\n",
       "      <td>1</td>\n",
       "      <td>0</td>\n",
       "      <td>dcbcf9c681fbd3e77dfbea6df0e070bc</td>\n",
       "      <td>23</td>\n",
       "    </tr>\n",
       "    <tr>\n",
       "      <th>1</th>\n",
       "      <td>dcbcf9c681fbd3e77dfbea6df0e070bc</td>\n",
       "      <td>Yl2TN9c23ZGLUBSD9ks5Uw</td>\n",
       "      <td>Byblos</td>\n",
       "      <td>11 Duncan Street</td>\n",
       "      <td>290.701203</td>\n",
       "      <td>-79.388123</td>\n",
       "      <td>43.647546</td>\n",
       "      <td>Mediterranean, Middle Eastern</td>\n",
       "      <td>9.0</td>\n",
       "      <td>4</td>\n",
       "      <td>...</td>\n",
       "      <td>0</td>\n",
       "      <td>0</td>\n",
       "      <td>0</td>\n",
       "      <td>0</td>\n",
       "      <td>0</td>\n",
       "      <td>0</td>\n",
       "      <td>1</td>\n",
       "      <td>0</td>\n",
       "      <td>dcbcf9c681fbd3e77dfbea6df0e070bc</td>\n",
       "      <td>23</td>\n",
       "    </tr>\n",
       "    <tr>\n",
       "      <th>2</th>\n",
       "      <td>dcbcf9c681fbd3e77dfbea6df0e070bc</td>\n",
       "      <td>jGO4T6rGX3EIOwOtg4bZqg</td>\n",
       "      <td>Lobster Burger Bar</td>\n",
       "      <td>214 King Street W</td>\n",
       "      <td>209.383312</td>\n",
       "      <td>-79.386768</td>\n",
       "      <td>43.647443</td>\n",
       "      <td>Bars, Seafood, Burgers</td>\n",
       "      <td>8.0</td>\n",
       "      <td>2</td>\n",
       "      <td>...</td>\n",
       "      <td>0</td>\n",
       "      <td>0</td>\n",
       "      <td>0</td>\n",
       "      <td>0</td>\n",
       "      <td>0</td>\n",
       "      <td>1</td>\n",
       "      <td>0</td>\n",
       "      <td>0</td>\n",
       "      <td>dcbcf9c681fbd3e77dfbea6df0e070bc</td>\n",
       "      <td>23</td>\n",
       "    </tr>\n",
       "    <tr>\n",
       "      <th>3</th>\n",
       "      <td>dcbcf9c681fbd3e77dfbea6df0e070bc</td>\n",
       "      <td>ocLnCE2E29j-CoBQj1yaSA</td>\n",
       "      <td>Cafe Landwer - Adelaide &amp; University</td>\n",
       "      <td>165 University Avenue</td>\n",
       "      <td>325.377024</td>\n",
       "      <td>-79.384910</td>\n",
       "      <td>43.648750</td>\n",
       "      <td>Cafes, Breakfast &amp; Brunch, Mediterranean</td>\n",
       "      <td>8.0</td>\n",
       "      <td>2</td>\n",
       "      <td>...</td>\n",
       "      <td>0</td>\n",
       "      <td>0</td>\n",
       "      <td>0</td>\n",
       "      <td>0</td>\n",
       "      <td>0</td>\n",
       "      <td>1</td>\n",
       "      <td>0</td>\n",
       "      <td>0</td>\n",
       "      <td>dcbcf9c681fbd3e77dfbea6df0e070bc</td>\n",
       "      <td>23</td>\n",
       "    </tr>\n",
       "    <tr>\n",
       "      <th>4</th>\n",
       "      <td>dcbcf9c681fbd3e77dfbea6df0e070bc</td>\n",
       "      <td>JMiaNitMzMbJm6Kh0RbT5A</td>\n",
       "      <td>Canoe</td>\n",
       "      <td>66 Wellington Street  W</td>\n",
       "      <td>285.381498</td>\n",
       "      <td>-79.382159</td>\n",
       "      <td>43.646954</td>\n",
       "      <td>Canadian (New)</td>\n",
       "      <td>8.0</td>\n",
       "      <td>4</td>\n",
       "      <td>...</td>\n",
       "      <td>0</td>\n",
       "      <td>0</td>\n",
       "      <td>0</td>\n",
       "      <td>0</td>\n",
       "      <td>0</td>\n",
       "      <td>1</td>\n",
       "      <td>0</td>\n",
       "      <td>0</td>\n",
       "      <td>dcbcf9c681fbd3e77dfbea6df0e070bc</td>\n",
       "      <td>23</td>\n",
       "    </tr>\n",
       "  </tbody>\n",
       "</table>\n",
       "<p>5 rows × 26 columns</p>\n",
       "</div>"
      ],
      "text/plain": [
       "             nearby_bike_station_id                  poi_id  \\\n",
       "0  dcbcf9c681fbd3e77dfbea6df0e070bc  r_BrIgzYcwo1NAuG9dLbpg   \n",
       "1  dcbcf9c681fbd3e77dfbea6df0e070bc  Yl2TN9c23ZGLUBSD9ks5Uw   \n",
       "2  dcbcf9c681fbd3e77dfbea6df0e070bc  jGO4T6rGX3EIOwOtg4bZqg   \n",
       "3  dcbcf9c681fbd3e77dfbea6df0e070bc  ocLnCE2E29j-CoBQj1yaSA   \n",
       "4  dcbcf9c681fbd3e77dfbea6df0e070bc  JMiaNitMzMbJm6Kh0RbT5A   \n",
       "\n",
       "                                   name                  address    distance  \\\n",
       "0             Pai Northern Thai Kitchen         18 Duncan Street  348.204192   \n",
       "1                                Byblos         11 Duncan Street  290.701203   \n",
       "2                    Lobster Burger Bar        214 King Street W  209.383312   \n",
       "3  Cafe Landwer - Adelaide & University    165 University Avenue  325.377024   \n",
       "4                                 Canoe  66 Wellington Street  W  285.381498   \n",
       "\n",
       "   longitude   latitude                                categories  rating  \\\n",
       "0 -79.388720  43.647840                                      Thai     9.0   \n",
       "1 -79.388123  43.647546             Mediterranean, Middle Eastern     9.0   \n",
       "2 -79.386768  43.647443                    Bars, Seafood, Burgers     8.0   \n",
       "3 -79.384910  43.648750  Cafes, Breakfast & Brunch, Mediterranean     8.0   \n",
       "4 -79.382159  43.646954                            Canadian (New)     8.0   \n",
       "\n",
       "   price  ...  rating_3  rating_4  rating_5  rating_6  rating_7  rating_8  \\\n",
       "0      2  ...         0         0         0         0         0         0   \n",
       "1      4  ...         0         0         0         0         0         0   \n",
       "2      2  ...         0         0         0         0         0         1   \n",
       "3      2  ...         0         0         0         0         0         1   \n",
       "4      4  ...         0         0         0         0         0         1   \n",
       "\n",
       "   rating_9  rating_10                                id  free_bikes  \n",
       "0         1          0  dcbcf9c681fbd3e77dfbea6df0e070bc          23  \n",
       "1         1          0  dcbcf9c681fbd3e77dfbea6df0e070bc          23  \n",
       "2         0          0  dcbcf9c681fbd3e77dfbea6df0e070bc          23  \n",
       "3         0          0  dcbcf9c681fbd3e77dfbea6df0e070bc          23  \n",
       "4         0          0  dcbcf9c681fbd3e77dfbea6df0e070bc          23  \n",
       "\n",
       "[5 rows x 26 columns]"
      ]
     },
     "execution_count": 20,
     "metadata": {},
     "output_type": "execute_result"
    }
   ],
   "source": [
    "merged_df = pd.merge(data, stations[['id', 'free_bikes']], left_on='nearby_bike_station_id', right_on='id')\n",
    "merged_df.head()"
   ]
  },
  {
   "cell_type": "code",
   "execution_count": 24,
   "metadata": {},
   "outputs": [],
   "source": [
    "merged_df.to_csv('merged_df.csv', index=False)"
   ]
  },
  {
   "cell_type": "markdown",
   "metadata": {},
   "source": [
    "Provide model output and an interpretation of the results. "
   ]
  },
  {
   "cell_type": "code",
   "execution_count": 32,
   "metadata": {},
   "outputs": [
    {
     "data": {
      "text/plain": [
       "Index(['nearby_bike_station_id', 'poi_id', 'name', 'address', 'distance',\n",
       "       'longitude', 'latitude', 'categories', 'rating', 'price',\n",
       "       'numeric_station_id', 'price_1', 'price_2', 'price_3', 'price_4',\n",
       "       'rating_2', 'rating_3', 'rating_4', 'rating_5', 'rating_6', 'rating_7',\n",
       "       'rating_8', 'rating_9', 'rating_10'],\n",
       "      dtype='object')"
      ]
     },
     "execution_count": 32,
     "metadata": {},
     "output_type": "execute_result"
    }
   ],
   "source": [
    "X = merged_df.drop('free_bikes', axis=1)\n",
    "y = merged_df['free_bikes']\n",
    "X.columns"
   ]
  },
  {
   "cell_type": "code",
   "execution_count": 36,
   "metadata": {},
   "outputs": [],
   "source": [
    "X = X[['distance', 'longitude', 'latitude', 'rating', 'price', 'numeric_station_id']]"
   ]
  },
  {
   "cell_type": "code",
   "execution_count": 30,
   "metadata": {},
   "outputs": [
    {
     "data": {
      "text/plain": [
       "0    23\n",
       "1    23\n",
       "2    23\n",
       "3    23\n",
       "4    23\n",
       "Name: free_bikes, dtype: int64"
      ]
     },
     "execution_count": 30,
     "metadata": {},
     "output_type": "execute_result"
    }
   ],
   "source": [
    "y.head()"
   ]
  },
  {
   "cell_type": "code",
   "execution_count": 37,
   "metadata": {},
   "outputs": [],
   "source": [
    "X = sm.add_constant(X)\n",
    "lin_reg = sm.OLS(y, X)"
   ]
  },
  {
   "cell_type": "code",
   "execution_count": 38,
   "metadata": {},
   "outputs": [
    {
     "name": "stdout",
     "output_type": "stream",
     "text": [
      "                            OLS Regression Results                            \n",
      "==============================================================================\n",
      "Dep. Variable:             free_bikes   R-squared:                       0.081\n",
      "Model:                            OLS   Adj. R-squared:                  0.079\n",
      "Method:                 Least Squares   F-statistic:                     43.93\n",
      "Date:                Sun, 19 Nov 2023   Prob (F-statistic):           1.07e-51\n",
      "Time:                        20:04:01   Log-Likelihood:                -10039.\n",
      "No. Observations:                2990   AIC:                         2.009e+04\n",
      "Df Residuals:                    2983   BIC:                         2.013e+04\n",
      "Df Model:                           6                                         \n",
      "Covariance Type:            nonrobust                                         \n",
      "======================================================================================\n",
      "                         coef    std err          t      P>|t|      [0.025      0.975]\n",
      "--------------------------------------------------------------------------------------\n",
      "const               4378.2833    320.918     13.643      0.000    3749.039    5007.527\n",
      "distance               0.0007      0.000      1.642      0.101      -0.000       0.002\n",
      "longitude             15.3059      2.289      6.688      0.000      10.818      19.793\n",
      "latitude             -72.1519      4.725    -15.271      0.000     -81.416     -62.888\n",
      "rating                -0.7666      0.160     -4.790      0.000      -1.080      -0.453\n",
      "price                  0.4842      0.178      2.718      0.007       0.135       0.833\n",
      "numeric_station_id     0.0019      0.002      0.844      0.399      -0.002       0.006\n",
      "==============================================================================\n",
      "Omnibus:                      246.613   Durbin-Watson:                   0.149\n",
      "Prob(Omnibus):                  0.000   Jarque-Bera (JB):              304.023\n",
      "Skew:                           0.771   Prob(JB):                     9.60e-67\n",
      "Kurtosis:                       2.749   Cond. No.                     1.53e+06\n",
      "==============================================================================\n",
      "\n",
      "Notes:\n",
      "[1] Standard Errors assume that the covariance matrix of the errors is correctly specified.\n",
      "[2] The condition number is large, 1.53e+06. This might indicate that there are\n",
      "strong multicollinearity or other numerical problems.\n"
     ]
    }
   ],
   "source": [
    "model = lin_reg.fit()\n",
    "print_model = model.summary()\n",
    "print(print_model)"
   ]
  },
  {
   "cell_type": "markdown",
   "metadata": {},
   "source": [
    "Removing lowest p-value variable, rerunning the model, and repeating that process until all p-values are below 0.05. "
   ]
  },
  {
   "cell_type": "code",
   "execution_count": 39,
   "metadata": {},
   "outputs": [],
   "source": [
    "X = X[['distance', 'longitude', 'latitude', 'rating', 'price']]"
   ]
  },
  {
   "cell_type": "code",
   "execution_count": 40,
   "metadata": {},
   "outputs": [],
   "source": [
    "X = sm.add_constant(X)\n",
    "lin_reg = sm.OLS(y, X)"
   ]
  },
  {
   "cell_type": "code",
   "execution_count": 41,
   "metadata": {},
   "outputs": [
    {
     "name": "stdout",
     "output_type": "stream",
     "text": [
      "                            OLS Regression Results                            \n",
      "==============================================================================\n",
      "Dep. Variable:             free_bikes   R-squared:                       0.081\n",
      "Model:                            OLS   Adj. R-squared:                  0.079\n",
      "Method:                 Least Squares   F-statistic:                     52.57\n",
      "Date:                Sun, 19 Nov 2023   Prob (F-statistic):           1.99e-52\n",
      "Time:                        20:05:12   Log-Likelihood:                -10039.\n",
      "No. Observations:                2990   AIC:                         2.009e+04\n",
      "Df Residuals:                    2984   BIC:                         2.013e+04\n",
      "Df Model:                           5                                         \n",
      "Covariance Type:            nonrobust                                         \n",
      "==============================================================================\n",
      "                 coef    std err          t      P>|t|      [0.025      0.975]\n",
      "------------------------------------------------------------------------------\n",
      "const       4390.4387    320.580     13.695      0.000    3761.859    5019.019\n",
      "distance       0.0007      0.000      1.723      0.085   -9.86e-05       0.002\n",
      "longitude     15.3881      2.286      6.730      0.000      10.905      19.871\n",
      "latitude     -72.2766      4.722    -15.305      0.000     -81.536     -63.017\n",
      "rating        -0.7658      0.160     -4.786      0.000      -1.080      -0.452\n",
      "price          0.4755      0.178      2.674      0.008       0.127       0.824\n",
      "==============================================================================\n",
      "Omnibus:                      245.810   Durbin-Watson:                   0.149\n",
      "Prob(Omnibus):                  0.000   Jarque-Bera (JB):              302.981\n",
      "Skew:                           0.770   Prob(JB):                     1.62e-66\n",
      "Kurtosis:                       2.752   Cond. No.                     1.51e+06\n",
      "==============================================================================\n",
      "\n",
      "Notes:\n",
      "[1] Standard Errors assume that the covariance matrix of the errors is correctly specified.\n",
      "[2] The condition number is large, 1.51e+06. This might indicate that there are\n",
      "strong multicollinearity or other numerical problems.\n"
     ]
    }
   ],
   "source": [
    "model = lin_reg.fit()\n",
    "print_model = model.summary()\n",
    "print(print_model)"
   ]
  },
  {
   "cell_type": "code",
   "execution_count": 42,
   "metadata": {},
   "outputs": [],
   "source": [
    "X = X[['longitude', 'latitude', 'rating', 'price']]"
   ]
  },
  {
   "cell_type": "code",
   "execution_count": 43,
   "metadata": {},
   "outputs": [],
   "source": [
    "X = sm.add_constant(X)\n",
    "lin_reg = sm.OLS(y, X)"
   ]
  },
  {
   "cell_type": "code",
   "execution_count": 44,
   "metadata": {},
   "outputs": [
    {
     "name": "stdout",
     "output_type": "stream",
     "text": [
      "                            OLS Regression Results                            \n",
      "==============================================================================\n",
      "Dep. Variable:             free_bikes   R-squared:                       0.080\n",
      "Model:                            OLS   Adj. R-squared:                  0.079\n",
      "Method:                 Least Squares   F-statistic:                     64.93\n",
      "Date:                Sun, 19 Nov 2023   Prob (F-statistic):           1.00e-52\n",
      "Time:                        20:06:01   Log-Likelihood:                -10041.\n",
      "No. Observations:                2990   AIC:                         2.009e+04\n",
      "Df Residuals:                    2985   BIC:                         2.012e+04\n",
      "Df Model:                           4                                         \n",
      "Covariance Type:            nonrobust                                         \n",
      "==============================================================================\n",
      "                 coef    std err          t      P>|t|      [0.025      0.975]\n",
      "------------------------------------------------------------------------------\n",
      "const       4341.9555    319.448     13.592      0.000    3715.594    4968.317\n",
      "longitude     15.3086      2.287      6.694      0.000      10.825      19.792\n",
      "latitude     -71.3083      4.690    -15.203      0.000     -80.505     -62.112\n",
      "rating        -0.7365      0.159     -4.627      0.000      -1.049      -0.424\n",
      "price          0.4834      0.178      2.719      0.007       0.135       0.832\n",
      "==============================================================================\n",
      "Omnibus:                      243.935   Durbin-Watson:                   0.149\n",
      "Prob(Omnibus):                  0.000   Jarque-Bera (JB):              299.880\n",
      "Skew:                           0.765   Prob(JB):                     7.62e-66\n",
      "Kurtosis:                       2.749   Cond. No.                     2.28e+05\n",
      "==============================================================================\n",
      "\n",
      "Notes:\n",
      "[1] Standard Errors assume that the covariance matrix of the errors is correctly specified.\n",
      "[2] The condition number is large, 2.28e+05. This might indicate that there are\n",
      "strong multicollinearity or other numerical problems.\n"
     ]
    }
   ],
   "source": [
    "model = lin_reg.fit()\n",
    "print_model = model.summary()\n",
    "print(print_model)"
   ]
  },
  {
   "cell_type": "markdown",
   "metadata": {},
   "source": [
    "The model was created by running a multivariate linear regression model first with all variables, and then removing the highest P>|t| values and rerunning the model, repeating that process until all P>|t| were below 0.05. \n",
    "\n",
    "Despite those steps above, our R-squared value is only 0.08, implying that we do not have a very good fit for our data.  \n",
    "\n",
    "The largest impact on the dependent variable is the latitude, which is the angular distance from north or south of the equator. What this means in the context of the bikes stations, is that it indicates how far north or south the bike station is in Toronto. \n",
    "\n",
    "As Toronto is north of the equator, the latitude is always negative. With a negative coefficient, this implies that as you move north in toronto, the number of free bikes will *increase*. \n",
    "\n",
    "Looking back at the EDA completed, it could also be seen that the bik stations were focused around East-West corridors, or in other words were clustered around a similar latitudes. This clustering could be the reason that the latitude has the largest impact out of the independent variables. \n",
    "\n",
    "This also makes sense when thinking about the layout of Toronto. The city center is close to the water (ie. further south). The further south you are, the denser the city becomes. It is also more difficult to navigate the city via car in these dense neighbourhoods, which could make the city bikes more popular. "
   ]
  },
  {
   "cell_type": "markdown",
   "metadata": {},
   "source": [
    "# Stretch"
   ]
  },
  {
   "cell_type": "markdown",
   "metadata": {},
   "source": [
    "How can you turn the regression model into a classification model?"
   ]
  },
  {
   "cell_type": "markdown",
   "metadata": {},
   "source": [
    "Some classification models that could be computed may be the following:\n",
    "- using the rating or price dummy variables to determine if there is a relationship between any independent variables and those ratings or prices\n",
    "- group the number of free bikes into two bins, labelling the first bin as 1 and the second bin as 2. \n",
    "    - From here, we could try to predict which bin a station falls into based on the independent variables. \n",
    "- we may be able to also predict the rating or price based on the number of free bikes\n",
    "- Using the location, and given the fact that we may have a relationship between the latitude and number of free bikes, we could try to determine if a station has bikes at all based on the latitude alone, or a combination of latitude and independent variables from the initial model"
   ]
  }
 ],
 "metadata": {
  "kernelspec": {
   "display_name": "Python 3",
   "language": "python",
   "name": "python3"
  },
  "language_info": {
   "codemirror_mode": {
    "name": "ipython",
    "version": 3
   },
   "file_extension": ".py",
   "mimetype": "text/x-python",
   "name": "python",
   "nbconvert_exporter": "python",
   "pygments_lexer": "ipython3",
   "version": "3.11.5"
  }
 },
 "nbformat": 4,
 "nbformat_minor": 4
}
